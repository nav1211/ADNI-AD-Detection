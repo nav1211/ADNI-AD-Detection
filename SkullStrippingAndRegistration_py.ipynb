{
  "nbformat": 4,
  "nbformat_minor": 0,
  "metadata": {
    "colab": {
      "name": "SkullStrippingAndRegistration.py",
      "provenance": []
    },
    "kernelspec": {
      "name": "python3",
      "display_name": "Python 3"
    },
    "language_info": {
      "name": "python"
    }
  },
  "cells": [
    {
      "cell_type": "code",
      "execution_count": null,
      "metadata": {
        "id": "VoCMl2ORaxPO"
      },
      "outputs": [],
      "source": [
        "import os\n",
        "\n",
        "!sudo apt -qq install file\n",
        "!wget https://fsl.fmrib.ox.ac.uk/fsldownloads/fslinstaller.py\n",
        "!python2 fslinstaller.py\n",
        "\n",
        "fslpath = \"/usr/local/fsl\"\n",
        "os.environ[\"FSLDIR\"] = fslpath\n",
        "os.environ[\"PATH\"] += os.pathsep + os.path.join(fslpath, 'bin')\n",
        "!. ${FSLDIR}/etc/fslconf/fsl.sh\n",
        "\n",
        "!flirt -version"
      ]
    },
    {
      "cell_type": "code",
      "source": [
        "#imports\n",
        "import numpy as np\n",
        "import nibabel as nib\n",
        "import nipype.interfaces.fsl as fsl\n",
        "from nipype.interfaces import fsl\n",
        "from nipype.testing import example_data\n",
        "from nipype.interfaces.fsl.utils import Reorient2Std\n",
        "import matplotlib.pyplot as plt\n",
        "from google.colab import drive\n",
        "drive.mount('/content/drive')"
      ],
      "metadata": {
        "id": "C0ABPWLBa4eX"
      },
      "execution_count": null,
      "outputs": []
    },
    {
      "cell_type": "code",
      "source": [
        "#generate list of input images\n",
        "os.chdir('/content/')\n",
        "def get_image_input_list():\n",
        "  dir = 'drive/MyDrive/Colab Notebooks/ADNI AD detection/AD_Detection/ADNI'\n",
        "  file_list = []\n",
        "  files = os.listdir(dir)\n",
        "  for i in files:\n",
        "    parent_dir = os.path.join(dir, i)\n",
        "    for j in range(3):\n",
        "      list_of_next = os.listdir(parent_dir)\n",
        "      parent_dir = os.path.join(parent_dir,list_of_next[len(list_of_next)-1])\n",
        "    file_list.append(parent_dir)\n",
        "    print(parent_dir)\n",
        "  return file_list\n",
        "    \n",
        "input_files = get_image_input_list()"
      ],
      "metadata": {
        "id": "nABcf1y1bI1b"
      },
      "execution_count": null,
      "outputs": []
    },
    {
      "cell_type": "code",
      "source": [
        "#function to skullstrip all images\n",
        "def skullstrip(frac = 0.):\n",
        "  for i in input_files:\n",
        "    print(i)\n",
        "    os.chdir(i)\n",
        "    file = os.listdir('.')\n",
        "    mybet = fsl.BET(in_file = file[0], out_file = 'brain_skull_stripped.nii', frac = 0.47)\n",
        "    result = mybet.run()\n"
      ],
      "metadata": {
        "id": "MUELRbCYvg5V"
      },
      "execution_count": null,
      "outputs": []
    },
    {
      "cell_type": "code",
      "source": [
        "file = os.listdir('.')\n",
        "mybet = fsl.BET(in_file = file[0], out_file = 'brain_skull_stripped.nii', frac = 0.48)\n",
        "result = mybet.run()\n"
      ],
      "metadata": {
        "id": "JjMPh1iozwwS"
      },
      "execution_count": null,
      "outputs": []
    },
    {
      "cell_type": "code",
      "source": [
        "f, axarr = plt.subplots(1,2)\n",
        "\n",
        "img = nib.load('brain_skull_stripped.nii').get_fdata()\n",
        "test = img[:,:,100]\n",
        "axarr[0].imshow(test, cmap='gray')\n",
        "\n",
        "img = nib.load(file[0]).get_fdata()\n",
        "test = img[:,:,100]\n",
        "axarr[1].imshow(test, cmap='gray')\n"
      ],
      "metadata": {
        "colab": {
          "base_uri": "https://localhost:8080/",
          "height": 180
        },
        "id": "Xuaha3J81B9c",
        "outputId": "4227fad2-0a63-4164-b1a8-61dd7fdbe671"
      },
      "execution_count": null,
      "outputs": [
        {
          "output_type": "execute_result",
          "data": {
            "text/plain": [
              "<matplotlib.image.AxesImage at 0x7faa40acbcd0>"
            ]
          },
          "metadata": {},
          "execution_count": 123
        },
        {
          "output_type": "display_data",
          "data": {
            "text/plain": [
              "<Figure size 432x288 with 2 Axes>"
            ],
            "image/png": "[encoded data removed]"
          },
          "metadata": {
            "needs_background": "light"
          }
        }
      ]
    },
    {
      "cell_type": "code",
      "source": [
        "print(os.getcwd())\n",
        "#using FLIRT and reorient2std\n",
        "reorient = Reorient2Std(out_file = 'reorient.nii')\n",
        "reorient.inputs.in_file = file[0]\n",
        "res = reorient.run()\n",
        "\n",
        "#flt = fsl.FLIRT(bins=640, cost_func='mutualinfo')\n",
        "#flt.inputs.in_file = file[0]\n",
        "#flt.inputs.reference = 'mni.nii'\n"
      ],
      "metadata": {
        "colab": {
          "base_uri": "https://localhost:8080/"
        },
        "id": "xQuK2C8r3WK8",
        "outputId": "33b27693-df86-48e3-d8a5-95ae696e4fc7"
      },
      "execution_count": null,
      "outputs": [
        {
          "output_type": "stream",
          "name": "stdout",
          "text": [
            "/content/drive/MyDrive/Colab Notebooks/ADNI AD detection/AD_Detection/ADNI/073_S_4559/MT1__N3m/2016-06-30_12_13_28.0/S516862\n",
            "220809-00:56:12,605 nipype.interface WARNING:\n",
            "\t FSLOUTPUTTYPE environment variable is not set. Setting FSLOUTPUTTYPE=NIFTI\n"
          ]
        },
        {
          "output_type": "stream",
          "name": "stderr",
          "text": [
            "WARNING:nipype.interface:FSLOUTPUTTYPE environment variable is not set. Setting FSLOUTPUTTYPE=NIFTI\n"
          ]
        },
        {
          "output_type": "stream",
          "name": "stdout",
          "text": [
            "220809-00:56:13,370 nipype.interface INFO:\n",
            "\t stderr 2022-08-09T00:56:13.369827:/usr/local/fsl/bin/fslreorient2std: 1: /usr/local/fsl/bin/fslreorient2std: bc: not found\n"
          ]
        },
        {
          "output_type": "stream",
          "name": "stderr",
          "text": [
            "INFO:nipype.interface:stderr 2022-08-09T00:56:13.369827:/usr/local/fsl/bin/fslreorient2std: 1: /usr/local/fsl/bin/fslreorient2std: bc: not found\n"
          ]
        }
      ]
    },
    {
      "cell_type": "code",
      "source": [
        "  "
      ],
      "metadata": {
        "id": "blamkiZPDJ27"
      },
      "execution_count": null,
      "outputs": []
    }
  ]
}